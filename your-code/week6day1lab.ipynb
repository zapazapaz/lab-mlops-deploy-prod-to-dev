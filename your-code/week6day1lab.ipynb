{
 "cells": [
  {
   "cell_type": "code",
   "execution_count": null,
   "id": "132f6a81-29a4-4497-b0b8-7eab2a18ed67",
   "metadata": {},
   "outputs": [],
   "source": [
    "import numpy as np\n",
    "\n",
    "def generate_magic_square(n):\n",
    "    if n % 2 == 0:\n",
    "        raise ValueError(\"This method works only for odd n.\")\n",
    "    \n",
    "    magic_square = np.zeros((n, n), dtype=int)\n",
    "    num = 1\n",
    "    i, j = 0, n // 2\n",
    "    \n",
    "    while num <= n * n:\n",
    "        magic_square[i, j] = num\n",
    "        num += 1\n",
    "        new_i, new_j = (i - 1) % n, (j + 1) % n\n",
    "        \n",
    "        if magic_square[new_i, new_j]:\n",
    "            i = (i + 1) % n\n",
    "        else:\n",
    "            i, j = new_i, new_j\n",
    "    \n",
    "    return magic_square\n",
    "\n",
    "# Example usage:\n",
    "n = 5  # Try with other odd numbers like 3, 7, 9, ...\n",
    "magic_square = generate_magic_square(n)\n",
    "print(magic_square)\n"
   ]
  }
 ],
 "metadata": {
  "kernelspec": {
   "display_name": "Python [conda env:base] *",
   "language": "python",
   "name": "conda-base-py"
  },
  "language_info": {
   "codemirror_mode": {
    "name": "ipython",
    "version": 3
   },
   "file_extension": ".py",
   "mimetype": "text/x-python",
   "name": "python",
   "nbconvert_exporter": "python",
   "pygments_lexer": "ipython3",
   "version": "3.12.7"
  }
 },
 "nbformat": 4,
 "nbformat_minor": 5
}
